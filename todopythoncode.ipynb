{
  "nbformat": 4,
  "nbformat_minor": 0,
  "metadata": {
    "colab": {
      "provenance": [],
      "authorship_tag": "ABX9TyNZn4h23rj31Yt702JuZFdX",
      "include_colab_link": true
    },
    "kernelspec": {
      "name": "python3",
      "display_name": "Python 3"
    },
    "language_info": {
      "name": "python"
    }
  },
  "cells": [
    {
      "cell_type": "markdown",
      "metadata": {
        "id": "view-in-github",
        "colab_type": "text"
      },
      "source": [
        "<a href=\"https://colab.research.google.com/github/manaswini294/ToDo-List/blob/main/Untitled3.ipynb\" target=\"_parent\"><img src=\"https://colab.research.google.com/assets/colab-badge.svg\" alt=\"Open In Colab\"/></a>"
      ]
    },
    {
      "cell_type": "code",
      "execution_count": 1,
      "metadata": {
        "colab": {
          "base_uri": "https://localhost:8080/"
        },
        "id": "YwL7dXYfmelJ",
        "outputId": "5aba13cd-c3a1-4bba-cf31-b0553f80a39d"
      },
      "outputs": [
        {
          "output_type": "stream",
          "name": "stdout",
          "text": [
            "\n",
            "==== Todo List Application ====\n",
            "1. List Tasks\n",
            "2. Add Task\n",
            "3. Complete Task\n",
            "4. Delete Task\n",
            "5. Exit\n",
            "Enter your choice (1-5): 1\n",
            "No tasks found.\n",
            "\n",
            "==== Todo List Application ====\n",
            "1. List Tasks\n",
            "2. Add Task\n",
            "3. Complete Task\n",
            "4. Delete Task\n",
            "5. Exit\n",
            "Enter your choice (1-5): 5\n",
            "Exiting Todo List Application. Goodbye!\n"
          ]
        }
      ],
      "source": [
        "import json\n",
        "\n",
        "# Function to load tasks from file\n",
        "def load_tasks():\n",
        "    try:\n",
        "        with open('tasks.json', 'r') as f:\n",
        "            tasks = json.load(f)\n",
        "    except FileNotFoundError:\n",
        "        tasks = []\n",
        "    return tasks\n",
        "\n",
        "# Function to save tasks to file\n",
        "def save_tasks(tasks):\n",
        "    with open('tasks.json', 'w') as f:\n",
        "        json.dump(tasks, f, indent=4)\n",
        "\n",
        "# Function to display tasks\n",
        "def display_tasks(tasks):\n",
        "    if tasks:\n",
        "        print(\"Tasks:\")\n",
        "        for idx, task in enumerate(tasks, start=1):\n",
        "            status = '✓' if task['completed'] else ' '\n",
        "            print(f\"{idx}. [{status}] {task['title']} - {task.get('description', '')}\")\n",
        "    else:\n",
        "        print(\"No tasks found.\")\n",
        "\n",
        "# Function to add a new task\n",
        "def add_task(tasks):\n",
        "    title = input(\"Enter task title: \")\n",
        "    description = input(\"Enter task description (optional): \")\n",
        "    tasks.append({'title': title, 'description': description, 'completed': False})\n",
        "    save_tasks(tasks)\n",
        "    print(\"Task added successfully.\")\n",
        "\n",
        "# Function to mark a task as completed\n",
        "def complete_task(tasks):\n",
        "    display_tasks(tasks)\n",
        "    idx = int(input(\"Enter task number to mark as complete: \")) - 1\n",
        "    tasks[idx]['completed'] = True\n",
        "    save_tasks(tasks)\n",
        "    print(\"Task marked as complete.\")\n",
        "\n",
        "# Function to delete a task\n",
        "def delete_task(tasks):\n",
        "    display_tasks(tasks)\n",
        "    idx = int(input(\"Enter task number to delete: \")) - 1\n",
        "    deleted_task = tasks.pop(idx)\n",
        "    save_tasks(tasks)\n",
        "    print(f\"Deleted task: {deleted_task['title']}\")\n",
        "\n",
        "# Main function to run the Todo List application\n",
        "def main():\n",
        "    tasks = load_tasks()\n",
        "\n",
        "    while True:\n",
        "        print(\"\\n==== Todo List Application ====\")\n",
        "        print(\"1. List Tasks\")\n",
        "        print(\"2. Add Task\")\n",
        "        print(\"3. Complete Task\")\n",
        "        print(\"4. Delete Task\")\n",
        "        print(\"5. Exit\")\n",
        "\n",
        "        choice = input(\"Enter your choice (1-5): \")\n",
        "\n",
        "        if choice == '1':\n",
        "            display_tasks(tasks)\n",
        "        elif choice == '2':\n",
        "            add_task(tasks)\n",
        "        elif choice == '3':\n",
        "            complete_task(tasks)\n",
        "        elif choice == '4':\n",
        "            delete_task(tasks)\n",
        "        elif choice == '5':\n",
        "            print(\"Exiting Todo List Application. Goodbye!\")\n",
        "            break\n",
        "        else:\n",
        "            print(\"Invalid choice. Please enter a number between 1 and 5.\")\n",
        "\n",
        "if __name__ == \"__main__\":\n",
        "    main()\n"
      ]
    }
  ]
}
